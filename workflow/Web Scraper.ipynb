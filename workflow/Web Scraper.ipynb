{
 "cells": [
  {
   "cell_type": "code",
   "execution_count": 417,
   "metadata": {},
   "outputs": [],
   "source": [
    "import numpy as np\n",
    "import pandas as pd\n",
    "from bs4 import BeautifulSoup\n",
    "import requests\n",
    "\n",
    "from IPython.core.display import display, HTML\n",
    "\n",
    "from selenium import webdriver\n",
    "from selenium.webdriver.common.keys import Keys\n",
    "import time, os\n",
    "import sys\n",
    "\n",
    "import pickle\n",
    "import random\n",
    "\n",
    "import re"
   ]
  },
  {
   "cell_type": "code",
   "execution_count": 2,
   "metadata": {},
   "outputs": [],
   "source": [
    "# urls for women categories\n",
    "url_women = []\n",
    "\n",
    "for page in range(2, 175):\n",
    "    url = \"https://www.fragrancex.com/products/_cid_perfume__category.html?currentPage=\" + str(page) + \"&searchSortExpression=0\"\n",
    "    url_women.append(url)"
   ]
  },
  {
   "cell_type": "code",
   "execution_count": 3,
   "metadata": {},
   "outputs": [],
   "source": [
    "url_first_women = 'https://www.fragrancex.com/products/_cid_perfume__category.html'\n",
    "url_women.insert(0, url_first_women)"
   ]
  },
  {
   "cell_type": "code",
   "execution_count": 4,
   "metadata": {},
   "outputs": [],
   "source": [
    "# urls for men categories\n",
    "url_men = []\n",
    "\n",
    "for page in range(1, 101):\n",
    "    url = \"https://www.fragrancex.com/products/_cid_cologne__category.html?currentPage=\"+ str(page) + \"&searchSortExpression=0\"\n",
    "    url_men.append(url)"
   ]
  },
  {
   "cell_type": "code",
   "execution_count": 5,
   "metadata": {},
   "outputs": [],
   "source": [
    "url_first_men = 'https://www.fragrancex.com/products/_cid_cologne__category.html'\n",
    "url_men.insert(0, url_first_men)"
   ]
  },
  {
   "cell_type": "code",
   "execution_count": 320,
   "metadata": {},
   "outputs": [],
   "source": [
    "# Save into pickle for future analysis\n",
    "with open('url_list_women.pickle', 'wb') as to_write:\n",
    "    pickle.dump(url_women, to_write)"
   ]
  },
  {
   "cell_type": "code",
   "execution_count": 321,
   "metadata": {},
   "outputs": [],
   "source": [
    "with open('url_list_men.pickle', 'wb') as to_write:\n",
    "    pickle.dump(url_men, to_write)"
   ]
  },
  {
   "cell_type": "code",
   "execution_count": 6,
   "metadata": {},
   "outputs": [],
   "source": [
    "chromedriver = '/Applications/chromedriver' # path to the chromedriver executable\n",
    "os.environ[\"webdriver.chrome.driver\"] = chromedriver"
   ]
  },
  {
   "cell_type": "code",
   "execution_count": 7,
   "metadata": {},
   "outputs": [],
   "source": [
    "driver = webdriver.Chrome(chromedriver)"
   ]
  },
  {
   "cell_type": "code",
   "execution_count": 23,
   "metadata": {},
   "outputs": [],
   "source": [
    "#Extract urls of each item- women category\n",
    "user_agent = {'User-Agent': 'Mozilla/5.0'}\n",
    "\n",
    "details_urls_women = []\n",
    "\n",
    "for url in url_women:\n",
    "    driver.get(url)\n",
    "    time.sleep(5+np.random.rand())\n",
    "    soup = BeautifulSoup(driver.page_source, \"html.parser\")\n",
    "    try: \n",
    "        atag=soup.find_all('a', class_ =  'animate product-image__link')\n",
    "        for e in atag:\n",
    "            url_sub = e.get(\"href\")\n",
    "            url_sub = 'https://www.fragrancex.com' + url_sub\n",
    "            details_urls_women.append(url_sub)\n",
    "        \n",
    "    except Exception as e:\n",
    "        time.sleep(5+np.random.rand())\n",
    "        pass\n",
    "      \n",
    "    \n",
    "    \n",
    "    \n",
    "    "
   ]
  },
  {
   "cell_type": "code",
   "execution_count": 24,
   "metadata": {},
   "outputs": [],
   "source": [
    "driver.close()"
   ]
  },
  {
   "cell_type": "code",
   "execution_count": 28,
   "metadata": {},
   "outputs": [],
   "source": [
    "driver = webdriver.Chrome(chromedriver)"
   ]
  },
  {
   "cell_type": "code",
   "execution_count": 29,
   "metadata": {},
   "outputs": [],
   "source": [
    "#Extract urls of each item- men category\n",
    "user_agent = {'User-Agent': 'Mozilla/5.0'}\n",
    "\n",
    "details_urls_men = []\n",
    "\n",
    "for url in url_men:\n",
    "    driver.get(url)\n",
    "    time.sleep(5+np.random.rand())\n",
    "    soup = BeautifulSoup(driver.page_source, \"html.parser\")\n",
    "    try: \n",
    "        atag=soup.find_all('a', class_ =  'animate product-image__link')\n",
    "        for e in atag:\n",
    "            url_sub = e.get(\"href\")\n",
    "            url_sub = 'https://www.fragrancex.com' + url_sub\n",
    "            details_urls_men.append(url_sub)\n",
    "        \n",
    "    except Exception as e:\n",
    "        time.sleep(5+np.random.rand())\n",
    "        pass\n",
    "      "
   ]
  },
  {
   "cell_type": "code",
   "execution_count": 311,
   "metadata": {},
   "outputs": [],
   "source": [
    "driver.close()"
   ]
  },
  {
   "cell_type": "code",
   "execution_count": 32,
   "metadata": {},
   "outputs": [
    {
     "data": {
      "text/plain": [
       "6026"
      ]
     },
     "execution_count": 32,
     "metadata": {},
     "output_type": "execute_result"
    }
   ],
   "source": [
    "len(details_urls_men)"
   ]
  },
  {
   "cell_type": "code",
   "execution_count": 446,
   "metadata": {},
   "outputs": [],
   "source": [
    "with open('url_items_women.pickle', 'wb') as to_write:\n",
    "    pickle.dump(details_urls_women, to_write)"
   ]
  },
  {
   "cell_type": "code",
   "execution_count": 323,
   "metadata": {},
   "outputs": [],
   "source": [
    "with open('url_items_men.pickle', 'wb') as to_write:\n",
    "    pickle.dump(details_urls_men, to_write)"
   ]
  },
  {
   "cell_type": "code",
   "execution_count": 309,
   "metadata": {},
   "outputs": [],
   "source": [
    "driver = webdriver.Chrome(chromedriver)"
   ]
  },
  {
   "cell_type": "code",
   "execution_count": 348,
   "metadata": {},
   "outputs": [],
   "source": [
    "#download html files -women's perfume\n",
    "for url in details_urls_women:\n",
    "    item_id = url.split(\"_\")[3] + \"_\" + url.split(\"_\")[4]\n",
    "    driver.get(url)\n",
    "    page_source = driver.page_source\n",
    "    \n",
    "    with open('html_women' + '/' + 'perfume_' + item_id + '.html', 'w') as f:\n",
    "        f.write(page_source)\n",
    "        time.sleep(1+np.random.rand())"
   ]
  },
  {
   "cell_type": "code",
   "execution_count": 284,
   "metadata": {},
   "outputs": [],
   "source": [
    "driver.close()\n"
   ]
  },
  {
   "cell_type": "code",
   "execution_count": 343,
   "metadata": {},
   "outputs": [],
   "source": [
    "driver = webdriver.Chrome(chromedriver)\n"
   ]
  },
  {
   "cell_type": "code",
   "execution_count": 344,
   "metadata": {},
   "outputs": [],
   "source": [
    "#download html files - men's cologne\n",
    "for url in details_urls_men[5967:len(details_urls_men)+1]:\n",
    "    item_id = url.split(\"_\")[3] + \"_\" + url.split(\"_\")[4]\n",
    "    driver.get(url)\n",
    "    page_source = driver.page_source\n",
    "    \n",
    "    with open('html_men' + '/' + 'perfume_' + item_id + '.html', 'w') as f:\n",
    "        f.write(page_source)\n",
    "        time.sleep(1+np.random.rand())"
   ]
  },
  {
   "cell_type": "code",
   "execution_count": 345,
   "metadata": {},
   "outputs": [],
   "source": [
    "driver.close()\n"
   ]
  },
  {
   "cell_type": "code",
   "execution_count": 346,
   "metadata": {},
   "outputs": [],
   "source": [
    "#pull features from each html file\n",
    "file_name_list_w = os.listdir('html_women')"
   ]
  },
  {
   "cell_type": "code",
   "execution_count": 418,
   "metadata": {},
   "outputs": [],
   "source": [
    "product_ids = []\n",
    "product_names = []\n",
    "reviews = []\n",
    "description_list = []\n",
    "url_list = []\n",
    "image_list = []\n",
    "brand_list = []"
   ]
  },
  {
   "cell_type": "code",
   "execution_count": 419,
   "metadata": {},
   "outputs": [],
   "source": [
    "for file_name in file_name_list_w:\n",
    "    file_html = open('html_women' + '/' + file_name, 'r', encoding='utf-8')\n",
    "    file_ = file_html.read()\n",
    "    soup = BeautifulSoup(file_, \"html.parser\")\n",
    "        \n",
    "    if 'Access denied' in soup.find('title').text:\n",
    "        pass\n",
    "    else:\n",
    "        product_id = file_name.split(\".\")[0]\n",
    "        \n",
    "        if soup.find_all('link', rel=\"canonical\"):\n",
    "            url = soup.find_all('link', rel=\"canonical\")[0].get('href')\n",
    "        else:\n",
    "            url = 'Missing'\n",
    "            \n",
    "        if soup.find_all('meta', property='og:image'):\n",
    "            image_url = soup.find_all('meta', property='og:image')[0].get('content')\n",
    "        else:\n",
    "            image_url = 'Missing'\n",
    "            \n",
    "        if soup.find_all(\"a\", class_ = 'ga-product-brand product-header-link'):\n",
    "            brand_name = soup.find_all(\"a\", class_ = 'ga-product-brand product-header-link')[0].text\n",
    "        else:\n",
    "            brand_name = 'Missing'\n",
    "        \n",
    "        if soup.find_all('span', class_= 'product-name-short'):\n",
    "            product_name = soup.find_all('span', class_= 'product-name-short')[0].text\n",
    "        else:\n",
    "            product_name = 'Missing'\n",
    "            \n",
    "        if soup.find_all('div', class_=\"teaser__points counter\"):\n",
    "            review = soup.find_all('div', class_=\"teaser__points counter\")[0].text.strip()\n",
    "        else:\n",
    "            review = 'Missing'\n",
    "        \n",
    "        description = ''\n",
    "            # Not all items have the 3 tags\n",
    "        if soup.find_all('span', itemprop=\"Description\"):\n",
    "            first_text = soup.find_all('span', itemprop=\"Description\")[0].text.strip()\n",
    "        else:\n",
    "            first_text = ''\n",
    "        if soup.find_all('span', id=\"product-read-more-text-mq1\"):\n",
    "            mid_text = soup.find_all('span', id=\"product-read-more-text-mq1\")[0].text\n",
    "        else:\n",
    "            mid_text = ''\n",
    "        if soup.find_all('span', id=\"product-read-more-text\"):\n",
    "            last_text = soup.find_all('span', id=\"product-read-more-text\")[0].text\n",
    "        else:\n",
    "            last_text = ''\n",
    "        \n",
    "        description = description + first_text + mid_text + last_text\n",
    "        description = description.strip()\n",
    "        \n",
    "        \n",
    "        product_ids.append(product_id)\n",
    "        product_names.append(product_name)\n",
    "        reviews.append(review)\n",
    "        description_list.append(description)\n",
    "        url_list.append(url)\n",
    "        image_list.append(image_url)\n",
    "        brand_list.append(brand_name)\n"
   ]
  },
  {
   "cell_type": "code",
   "execution_count": 420,
   "metadata": {},
   "outputs": [
    {
     "name": "stdout",
     "output_type": "stream",
     "text": [
      "8224\n",
      "8224\n",
      "8224\n",
      "8224\n",
      "8224\n",
      "8224\n",
      "8224\n"
     ]
    }
   ],
   "source": [
    "print(len(product_ids))\n",
    "print(len(product_names))\n",
    "print(len(reviews))\n",
    "print(len(description_list))\n",
    "print(len(url_list))\n",
    "print(len(image_list))\n",
    "print(len(brand_list))"
   ]
  },
  {
   "cell_type": "code",
   "execution_count": 421,
   "metadata": {},
   "outputs": [],
   "source": [
    "#Create a dict\n",
    "df_keys = ['product_id', 'product_name', 'product_description','brand_name','review','url', 'image_url']   \n",
    "\n",
    "df_dic = dict(zip(df_keys,[product_ids,\n",
    "                           product_names,\n",
    "                           description_list,\n",
    "                           brand_list,\n",
    "                           reviews,\n",
    "                           url_list,\n",
    "                           image_list\n",
    "                           ]))"
   ]
  },
  {
   "cell_type": "code",
   "execution_count": 422,
   "metadata": {},
   "outputs": [
    {
     "data": {
      "text/html": [
       "<div>\n",
       "<style scoped>\n",
       "    .dataframe tbody tr th:only-of-type {\n",
       "        vertical-align: middle;\n",
       "    }\n",
       "\n",
       "    .dataframe tbody tr th {\n",
       "        vertical-align: top;\n",
       "    }\n",
       "\n",
       "    .dataframe thead th {\n",
       "        text-align: right;\n",
       "    }\n",
       "</style>\n",
       "<table border=\"1\" class=\"dataframe\">\n",
       "  <thead>\n",
       "    <tr style=\"text-align: right;\">\n",
       "      <th></th>\n",
       "      <th>product_id</th>\n",
       "      <th>product_name</th>\n",
       "      <th>product_description</th>\n",
       "      <th>brand_name</th>\n",
       "      <th>review</th>\n",
       "      <th>url</th>\n",
       "      <th>image_url</th>\n",
       "    </tr>\n",
       "  </thead>\n",
       "  <tbody>\n",
       "    <tr>\n",
       "      <th>0</th>\n",
       "      <td>perfume_l-am-pid_80223w</td>\n",
       "      <td>La Nuit Tresor Nude Perfume</td>\n",
       "      <td>La Nuit Tresor Nude Perfume by Lancome, Feel i...</td>\n",
       "      <td>Lancome</td>\n",
       "      <td>0.0</td>\n",
       "      <td>https://www.fragrancex.com/products/_cid_perfu...</td>\n",
       "      <td>https://img.fragrancex.com/images/products/par...</td>\n",
       "    </tr>\n",
       "    <tr>\n",
       "      <th>1</th>\n",
       "      <td>perfume_m-am-pid_68830w</td>\n",
       "      <td>Miss Varens Perfume</td>\n",
       "      <td>Miss Varens Perfume by Ulric De Varens, Launch...</td>\n",
       "      <td>Ulric De Varens</td>\n",
       "      <td>3.7</td>\n",
       "      <td>https://www.fragrancex.com/products/_cid_perfu...</td>\n",
       "      <td>https://img.fragrancex.com/images/products/par...</td>\n",
       "    </tr>\n",
       "    <tr>\n",
       "      <th>2</th>\n",
       "      <td>perfume_h-am-pid_1478w</td>\n",
       "      <td>Hodo Perfume</td>\n",
       "      <td>Hodo Perfume by Fragluxe, Captivating and myst...</td>\n",
       "      <td>Fragluxe</td>\n",
       "      <td>5.0</td>\n",
       "      <td>https://www.fragrancex.com/products/_cid_perfu...</td>\n",
       "      <td>https://img.fragrancex.com/images/products/par...</td>\n",
       "    </tr>\n",
       "    <tr>\n",
       "      <th>3</th>\n",
       "      <td>perfume_p-am-pid_77114w</td>\n",
       "      <td>Personal Selection Two Perfume</td>\n",
       "      <td>Personal Selection Two Perfume by Fred Hayman ...</td>\n",
       "      <td>Fred Hayman</td>\n",
       "      <td>0.0</td>\n",
       "      <td>https://www.fragrancex.com/products/_cid_perfu...</td>\n",
       "      <td>Missing</td>\n",
       "    </tr>\n",
       "    <tr>\n",
       "      <th>4</th>\n",
       "      <td>perfume_b-am-pid_70988w</td>\n",
       "      <td>Bronze Goddess Perfume</td>\n",
       "      <td>Bronze Goddess Perfume by Estee Lauder, Bronze...</td>\n",
       "      <td>Estee Lauder</td>\n",
       "      <td>4.6</td>\n",
       "      <td>https://www.fragrancex.com/products/_cid_perfu...</td>\n",
       "      <td>https://img.fragrancex.com/images/products/par...</td>\n",
       "    </tr>\n",
       "  </tbody>\n",
       "</table>\n",
       "</div>"
      ],
      "text/plain": [
       "                product_id                    product_name  \\\n",
       "0  perfume_l-am-pid_80223w     La Nuit Tresor Nude Perfume   \n",
       "1  perfume_m-am-pid_68830w             Miss Varens Perfume   \n",
       "2   perfume_h-am-pid_1478w                    Hodo Perfume   \n",
       "3  perfume_p-am-pid_77114w  Personal Selection Two Perfume   \n",
       "4  perfume_b-am-pid_70988w          Bronze Goddess Perfume   \n",
       "\n",
       "                                 product_description       brand_name review  \\\n",
       "0  La Nuit Tresor Nude Perfume by Lancome, Feel i...          Lancome    0.0   \n",
       "1  Miss Varens Perfume by Ulric De Varens, Launch...  Ulric De Varens    3.7   \n",
       "2  Hodo Perfume by Fragluxe, Captivating and myst...         Fragluxe    5.0   \n",
       "3  Personal Selection Two Perfume by Fred Hayman ...      Fred Hayman    0.0   \n",
       "4  Bronze Goddess Perfume by Estee Lauder, Bronze...     Estee Lauder    4.6   \n",
       "\n",
       "                                                 url  \\\n",
       "0  https://www.fragrancex.com/products/_cid_perfu...   \n",
       "1  https://www.fragrancex.com/products/_cid_perfu...   \n",
       "2  https://www.fragrancex.com/products/_cid_perfu...   \n",
       "3  https://www.fragrancex.com/products/_cid_perfu...   \n",
       "4  https://www.fragrancex.com/products/_cid_perfu...   \n",
       "\n",
       "                                           image_url  \n",
       "0  https://img.fragrancex.com/images/products/par...  \n",
       "1  https://img.fragrancex.com/images/products/par...  \n",
       "2  https://img.fragrancex.com/images/products/par...  \n",
       "3                                            Missing  \n",
       "4  https://img.fragrancex.com/images/products/par...  "
      ]
     },
     "execution_count": 422,
     "metadata": {},
     "output_type": "execute_result"
    }
   ],
   "source": [
    "#Covert dict to dataframe\n",
    "df_women = pd.DataFrame(df_dic)\n",
    "df_women.head()"
   ]
  },
  {
   "cell_type": "code",
   "execution_count": 423,
   "metadata": {},
   "outputs": [],
   "source": [
    "with open('df_women.pickle', 'wb') as to_write:\n",
    "    pickle.dump(df_women, to_write)"
   ]
  },
  {
   "cell_type": "code",
   "execution_count": 428,
   "metadata": {},
   "outputs": [],
   "source": [
    "file_name_list_m = os.listdir('html_men')"
   ]
  },
  {
   "cell_type": "code",
   "execution_count": 429,
   "metadata": {},
   "outputs": [],
   "source": [
    "product_ids = []\n",
    "product_names = []\n",
    "reviews = []\n",
    "description_list = []\n",
    "url_list = []\n",
    "image_list = []\n",
    "brand_list = []"
   ]
  },
  {
   "cell_type": "code",
   "execution_count": 430,
   "metadata": {},
   "outputs": [],
   "source": [
    "for file_name in file_name_list_m:\n",
    "    file_html = open('html_men' + '/' + file_name, 'r', encoding='utf-8')\n",
    "    file_ = file_html.read()\n",
    "    soup = BeautifulSoup(file_, \"html.parser\")\n",
    "        \n",
    "    if 'Access denied' in soup.find('title').text:\n",
    "        pass\n",
    "    else:\n",
    "        product_id = file_name.split(\".\")[0]\n",
    "        \n",
    "        if soup.find_all('link', rel=\"canonical\"):\n",
    "            url = soup.find_all('link', rel=\"canonical\")[0].get('href')\n",
    "        else:\n",
    "            url = 'Missing'\n",
    "            \n",
    "        if soup.find_all('meta', property='og:image'):\n",
    "            image_url = soup.find_all('meta', property='og:image')[0].get('content')\n",
    "        else:\n",
    "            image_url = 'Missing'\n",
    "            \n",
    "        if soup.find_all(\"a\", class_ = 'ga-product-brand product-header-link'):\n",
    "            brand_name = soup.find_all(\"a\", class_ = 'ga-product-brand product-header-link')[0].text\n",
    "        else:\n",
    "            brand_name = 'Missing'\n",
    "        \n",
    "        if soup.find_all('span', class_= 'product-name-short'):\n",
    "            product_name = soup.find_all('span', class_= 'product-name-short')[0].text\n",
    "        else:\n",
    "            product_name = 'Missing'\n",
    "            \n",
    "        if soup.find_all('div', class_=\"teaser__points counter\"):\n",
    "            review = soup.find_all('div', class_=\"teaser__points counter\")[0].text.strip()\n",
    "        else:\n",
    "            review = 'Missing'\n",
    "        \n",
    "        description = ''\n",
    "            # Not all items have the 3 tags\n",
    "        if soup.find_all('span', itemprop=\"Description\"):\n",
    "            first_text = soup.find_all('span', itemprop=\"Description\")[0].text.strip()\n",
    "        else:\n",
    "            first_text = ''\n",
    "        if soup.find_all('span', id=\"product-read-more-text-mq1\"):\n",
    "            mid_text = soup.find_all('span', id=\"product-read-more-text-mq1\")[0].text\n",
    "        else:\n",
    "            mid_text = ''\n",
    "        if soup.find_all('span', id=\"product-read-more-text\"):\n",
    "            last_text = soup.find_all('span', id=\"product-read-more-text\")[0].text\n",
    "        else:\n",
    "            last_text = ''\n",
    "        \n",
    "        description = description + first_text + mid_text + last_text\n",
    "        description = description.strip()\n",
    "        \n",
    "        \n",
    "        product_ids.append(product_id)\n",
    "        product_names.append(product_name)\n",
    "        reviews.append(review)\n",
    "        description_list.append(description)\n",
    "        url_list.append(url)\n",
    "        image_list.append(image_url)\n",
    "        brand_list.append(brand_name)"
   ]
  },
  {
   "cell_type": "code",
   "execution_count": 431,
   "metadata": {},
   "outputs": [
    {
     "name": "stdout",
     "output_type": "stream",
     "text": [
      "5963\n",
      "5963\n",
      "5963\n",
      "5963\n",
      "5963\n",
      "5963\n",
      "5963\n"
     ]
    }
   ],
   "source": [
    "print(len(product_ids))\n",
    "print(len(product_names))\n",
    "print(len(reviews))\n",
    "print(len(description_list))\n",
    "print(len(url_list))\n",
    "print(len(image_list))\n",
    "print(len(brand_list))"
   ]
  },
  {
   "cell_type": "code",
   "execution_count": 432,
   "metadata": {},
   "outputs": [],
   "source": [
    "df_keys = ['product_id', 'product_name', 'product_description','brand_name','review','url', 'image_url']   \n",
    "\n",
    "df_dic = dict(zip(df_keys,[product_ids,\n",
    "                           product_names,\n",
    "                           description_list,\n",
    "                           brand_list,\n",
    "                           reviews,\n",
    "                           url_list,\n",
    "                           image_list\n",
    "                           ]))"
   ]
  },
  {
   "cell_type": "code",
   "execution_count": 433,
   "metadata": {},
   "outputs": [
    {
     "data": {
      "text/html": [
       "<div>\n",
       "<style scoped>\n",
       "    .dataframe tbody tr th:only-of-type {\n",
       "        vertical-align: middle;\n",
       "    }\n",
       "\n",
       "    .dataframe tbody tr th {\n",
       "        vertical-align: top;\n",
       "    }\n",
       "\n",
       "    .dataframe thead th {\n",
       "        text-align: right;\n",
       "    }\n",
       "</style>\n",
       "<table border=\"1\" class=\"dataframe\">\n",
       "  <thead>\n",
       "    <tr style=\"text-align: right;\">\n",
       "      <th></th>\n",
       "      <th>product_id</th>\n",
       "      <th>product_name</th>\n",
       "      <th>product_description</th>\n",
       "      <th>brand_name</th>\n",
       "      <th>review</th>\n",
       "      <th>url</th>\n",
       "      <th>image_url</th>\n",
       "    </tr>\n",
       "  </thead>\n",
       "  <tbody>\n",
       "    <tr>\n",
       "      <th>0</th>\n",
       "      <td>perfume_m-am-pid_78163m</td>\n",
       "      <td>Mercedes Benz The Move Cologne</td>\n",
       "      <td>Mercedes Benz The Move Cologne by Mercedes Ben...</td>\n",
       "      <td>Mercedes Benz</td>\n",
       "      <td>4.6</td>\n",
       "      <td>https://www.fragrancex.com/products/_cid_colog...</td>\n",
       "      <td>https://img.fragrancex.com/images/products/par...</td>\n",
       "    </tr>\n",
       "    <tr>\n",
       "      <th>1</th>\n",
       "      <td>perfume_j-am-pid_69458m</td>\n",
       "      <td>Jaguar Excellence Cologne</td>\n",
       "      <td>Jaguar Excellence Cologne by Jaguar, Released ...</td>\n",
       "      <td>Jaguar</td>\n",
       "      <td>5.0</td>\n",
       "      <td>https://www.fragrancex.com/products/_cid_colog...</td>\n",
       "      <td>https://img.fragrancex.com/images/products/par...</td>\n",
       "    </tr>\n",
       "    <tr>\n",
       "      <th>2</th>\n",
       "      <td>perfume_s-am-pid_1225m</td>\n",
       "      <td>Stanley Blacker Cologne</td>\n",
       "      <td>Stanley Blacker Cologne by Stanley Blacker All...</td>\n",
       "      <td>Stanley Blacker</td>\n",
       "      <td>0.0</td>\n",
       "      <td>https://www.fragrancex.com/products/_cid_colog...</td>\n",
       "      <td>https://img.fragrancex.com/images/products/par...</td>\n",
       "    </tr>\n",
       "    <tr>\n",
       "      <th>3</th>\n",
       "      <td>perfume_1-am-pid_62325m</td>\n",
       "      <td>90210 Extreme Sport Cologne</td>\n",
       "      <td>90210 Extreme Sport Cologne by Torand, Present...</td>\n",
       "      <td>Torand</td>\n",
       "      <td>0.0</td>\n",
       "      <td>https://www.fragrancex.com/products/_cid_colog...</td>\n",
       "      <td>Missing</td>\n",
       "    </tr>\n",
       "    <tr>\n",
       "      <th>4</th>\n",
       "      <td>perfume_b-am-pid_68722m</td>\n",
       "      <td>Bod Man 24k Cologne</td>\n",
       "      <td>Bod Man 24K Cologne by Parfums De Coeur, Go fo...</td>\n",
       "      <td>Parfums De Coeur</td>\n",
       "      <td>4.9</td>\n",
       "      <td>https://www.fragrancex.com/products/_cid_colog...</td>\n",
       "      <td>https://img.fragrancex.com/images/products/par...</td>\n",
       "    </tr>\n",
       "  </tbody>\n",
       "</table>\n",
       "</div>"
      ],
      "text/plain": [
       "                product_id                    product_name  \\\n",
       "0  perfume_m-am-pid_78163m  Mercedes Benz The Move Cologne   \n",
       "1  perfume_j-am-pid_69458m       Jaguar Excellence Cologne   \n",
       "2   perfume_s-am-pid_1225m         Stanley Blacker Cologne   \n",
       "3  perfume_1-am-pid_62325m     90210 Extreme Sport Cologne   \n",
       "4  perfume_b-am-pid_68722m             Bod Man 24k Cologne   \n",
       "\n",
       "                                 product_description        brand_name review  \\\n",
       "0  Mercedes Benz The Move Cologne by Mercedes Ben...     Mercedes Benz    4.6   \n",
       "1  Jaguar Excellence Cologne by Jaguar, Released ...            Jaguar    5.0   \n",
       "2  Stanley Blacker Cologne by Stanley Blacker All...   Stanley Blacker    0.0   \n",
       "3  90210 Extreme Sport Cologne by Torand, Present...            Torand    0.0   \n",
       "4  Bod Man 24K Cologne by Parfums De Coeur, Go fo...  Parfums De Coeur    4.9   \n",
       "\n",
       "                                                 url  \\\n",
       "0  https://www.fragrancex.com/products/_cid_colog...   \n",
       "1  https://www.fragrancex.com/products/_cid_colog...   \n",
       "2  https://www.fragrancex.com/products/_cid_colog...   \n",
       "3  https://www.fragrancex.com/products/_cid_colog...   \n",
       "4  https://www.fragrancex.com/products/_cid_colog...   \n",
       "\n",
       "                                           image_url  \n",
       "0  https://img.fragrancex.com/images/products/par...  \n",
       "1  https://img.fragrancex.com/images/products/par...  \n",
       "2  https://img.fragrancex.com/images/products/par...  \n",
       "3                                            Missing  \n",
       "4  https://img.fragrancex.com/images/products/par...  "
      ]
     },
     "execution_count": 433,
     "metadata": {},
     "output_type": "execute_result"
    }
   ],
   "source": [
    "df_men = pd.DataFrame(df_dic)\n",
    "df_men.head()"
   ]
  },
  {
   "cell_type": "code",
   "execution_count": 434,
   "metadata": {},
   "outputs": [],
   "source": [
    "with open('df_men.pickle', 'wb') as to_write:\n",
    "    pickle.dump(df_men, to_write)"
   ]
  },
  {
   "cell_type": "code",
   "execution_count": 435,
   "metadata": {},
   "outputs": [
    {
     "data": {
      "text/html": [
       "<div>\n",
       "<style scoped>\n",
       "    .dataframe tbody tr th:only-of-type {\n",
       "        vertical-align: middle;\n",
       "    }\n",
       "\n",
       "    .dataframe tbody tr th {\n",
       "        vertical-align: top;\n",
       "    }\n",
       "\n",
       "    .dataframe thead th {\n",
       "        text-align: right;\n",
       "    }\n",
       "</style>\n",
       "<table border=\"1\" class=\"dataframe\">\n",
       "  <thead>\n",
       "    <tr style=\"text-align: right;\">\n",
       "      <th></th>\n",
       "      <th>product_id</th>\n",
       "      <th>product_name</th>\n",
       "      <th>product_description</th>\n",
       "      <th>brand_name</th>\n",
       "      <th>review</th>\n",
       "      <th>url</th>\n",
       "      <th>image_url</th>\n",
       "      <th>department</th>\n",
       "    </tr>\n",
       "  </thead>\n",
       "  <tbody>\n",
       "    <tr>\n",
       "      <th>0</th>\n",
       "      <td>perfume_m-am-pid_78163m</td>\n",
       "      <td>Mercedes Benz The Move Cologne</td>\n",
       "      <td>Mercedes Benz The Move Cologne by Mercedes Ben...</td>\n",
       "      <td>Mercedes Benz</td>\n",
       "      <td>4.6</td>\n",
       "      <td>https://www.fragrancex.com/products/_cid_colog...</td>\n",
       "      <td>https://img.fragrancex.com/images/products/par...</td>\n",
       "      <td>Men's Cologne</td>\n",
       "    </tr>\n",
       "    <tr>\n",
       "      <th>1</th>\n",
       "      <td>perfume_j-am-pid_69458m</td>\n",
       "      <td>Jaguar Excellence Cologne</td>\n",
       "      <td>Jaguar Excellence Cologne by Jaguar, Released ...</td>\n",
       "      <td>Jaguar</td>\n",
       "      <td>5.0</td>\n",
       "      <td>https://www.fragrancex.com/products/_cid_colog...</td>\n",
       "      <td>https://img.fragrancex.com/images/products/par...</td>\n",
       "      <td>Men's Cologne</td>\n",
       "    </tr>\n",
       "    <tr>\n",
       "      <th>2</th>\n",
       "      <td>perfume_s-am-pid_1225m</td>\n",
       "      <td>Stanley Blacker Cologne</td>\n",
       "      <td>Stanley Blacker Cologne by Stanley Blacker All...</td>\n",
       "      <td>Stanley Blacker</td>\n",
       "      <td>0.0</td>\n",
       "      <td>https://www.fragrancex.com/products/_cid_colog...</td>\n",
       "      <td>https://img.fragrancex.com/images/products/par...</td>\n",
       "      <td>Men's Cologne</td>\n",
       "    </tr>\n",
       "    <tr>\n",
       "      <th>3</th>\n",
       "      <td>perfume_1-am-pid_62325m</td>\n",
       "      <td>90210 Extreme Sport Cologne</td>\n",
       "      <td>90210 Extreme Sport Cologne by Torand, Present...</td>\n",
       "      <td>Torand</td>\n",
       "      <td>0.0</td>\n",
       "      <td>https://www.fragrancex.com/products/_cid_colog...</td>\n",
       "      <td>Missing</td>\n",
       "      <td>Men's Cologne</td>\n",
       "    </tr>\n",
       "    <tr>\n",
       "      <th>4</th>\n",
       "      <td>perfume_b-am-pid_68722m</td>\n",
       "      <td>Bod Man 24k Cologne</td>\n",
       "      <td>Bod Man 24K Cologne by Parfums De Coeur, Go fo...</td>\n",
       "      <td>Parfums De Coeur</td>\n",
       "      <td>4.9</td>\n",
       "      <td>https://www.fragrancex.com/products/_cid_colog...</td>\n",
       "      <td>https://img.fragrancex.com/images/products/par...</td>\n",
       "      <td>Men's Cologne</td>\n",
       "    </tr>\n",
       "  </tbody>\n",
       "</table>\n",
       "</div>"
      ],
      "text/plain": [
       "                product_id                    product_name  \\\n",
       "0  perfume_m-am-pid_78163m  Mercedes Benz The Move Cologne   \n",
       "1  perfume_j-am-pid_69458m       Jaguar Excellence Cologne   \n",
       "2   perfume_s-am-pid_1225m         Stanley Blacker Cologne   \n",
       "3  perfume_1-am-pid_62325m     90210 Extreme Sport Cologne   \n",
       "4  perfume_b-am-pid_68722m             Bod Man 24k Cologne   \n",
       "\n",
       "                                 product_description        brand_name review  \\\n",
       "0  Mercedes Benz The Move Cologne by Mercedes Ben...     Mercedes Benz    4.6   \n",
       "1  Jaguar Excellence Cologne by Jaguar, Released ...            Jaguar    5.0   \n",
       "2  Stanley Blacker Cologne by Stanley Blacker All...   Stanley Blacker    0.0   \n",
       "3  90210 Extreme Sport Cologne by Torand, Present...            Torand    0.0   \n",
       "4  Bod Man 24K Cologne by Parfums De Coeur, Go fo...  Parfums De Coeur    4.9   \n",
       "\n",
       "                                                 url  \\\n",
       "0  https://www.fragrancex.com/products/_cid_colog...   \n",
       "1  https://www.fragrancex.com/products/_cid_colog...   \n",
       "2  https://www.fragrancex.com/products/_cid_colog...   \n",
       "3  https://www.fragrancex.com/products/_cid_colog...   \n",
       "4  https://www.fragrancex.com/products/_cid_colog...   \n",
       "\n",
       "                                           image_url     department  \n",
       "0  https://img.fragrancex.com/images/products/par...  Men's Cologne  \n",
       "1  https://img.fragrancex.com/images/products/par...  Men's Cologne  \n",
       "2  https://img.fragrancex.com/images/products/par...  Men's Cologne  \n",
       "3                                            Missing  Men's Cologne  \n",
       "4  https://img.fragrancex.com/images/products/par...  Men's Cologne  "
      ]
     },
     "execution_count": 435,
     "metadata": {},
     "output_type": "execute_result"
    }
   ],
   "source": [
    "df_men['department'] = \"Men's Cologne\"\n",
    "df_men.head()"
   ]
  },
  {
   "cell_type": "code",
   "execution_count": 436,
   "metadata": {},
   "outputs": [
    {
     "data": {
      "text/html": [
       "<div>\n",
       "<style scoped>\n",
       "    .dataframe tbody tr th:only-of-type {\n",
       "        vertical-align: middle;\n",
       "    }\n",
       "\n",
       "    .dataframe tbody tr th {\n",
       "        vertical-align: top;\n",
       "    }\n",
       "\n",
       "    .dataframe thead th {\n",
       "        text-align: right;\n",
       "    }\n",
       "</style>\n",
       "<table border=\"1\" class=\"dataframe\">\n",
       "  <thead>\n",
       "    <tr style=\"text-align: right;\">\n",
       "      <th></th>\n",
       "      <th>product_id</th>\n",
       "      <th>product_name</th>\n",
       "      <th>product_description</th>\n",
       "      <th>brand_name</th>\n",
       "      <th>review</th>\n",
       "      <th>url</th>\n",
       "      <th>image_url</th>\n",
       "      <th>department</th>\n",
       "    </tr>\n",
       "  </thead>\n",
       "  <tbody>\n",
       "    <tr>\n",
       "      <th>0</th>\n",
       "      <td>perfume_l-am-pid_80223w</td>\n",
       "      <td>La Nuit Tresor Nude Perfume</td>\n",
       "      <td>La Nuit Tresor Nude Perfume by Lancome, Feel i...</td>\n",
       "      <td>Lancome</td>\n",
       "      <td>0.0</td>\n",
       "      <td>https://www.fragrancex.com/products/_cid_perfu...</td>\n",
       "      <td>https://img.fragrancex.com/images/products/par...</td>\n",
       "      <td>Women's Perfume</td>\n",
       "    </tr>\n",
       "    <tr>\n",
       "      <th>1</th>\n",
       "      <td>perfume_m-am-pid_68830w</td>\n",
       "      <td>Miss Varens Perfume</td>\n",
       "      <td>Miss Varens Perfume by Ulric De Varens, Launch...</td>\n",
       "      <td>Ulric De Varens</td>\n",
       "      <td>3.7</td>\n",
       "      <td>https://www.fragrancex.com/products/_cid_perfu...</td>\n",
       "      <td>https://img.fragrancex.com/images/products/par...</td>\n",
       "      <td>Women's Perfume</td>\n",
       "    </tr>\n",
       "    <tr>\n",
       "      <th>2</th>\n",
       "      <td>perfume_h-am-pid_1478w</td>\n",
       "      <td>Hodo Perfume</td>\n",
       "      <td>Hodo Perfume by Fragluxe, Captivating and myst...</td>\n",
       "      <td>Fragluxe</td>\n",
       "      <td>5.0</td>\n",
       "      <td>https://www.fragrancex.com/products/_cid_perfu...</td>\n",
       "      <td>https://img.fragrancex.com/images/products/par...</td>\n",
       "      <td>Women's Perfume</td>\n",
       "    </tr>\n",
       "    <tr>\n",
       "      <th>3</th>\n",
       "      <td>perfume_p-am-pid_77114w</td>\n",
       "      <td>Personal Selection Two Perfume</td>\n",
       "      <td>Personal Selection Two Perfume by Fred Hayman ...</td>\n",
       "      <td>Fred Hayman</td>\n",
       "      <td>0.0</td>\n",
       "      <td>https://www.fragrancex.com/products/_cid_perfu...</td>\n",
       "      <td>Missing</td>\n",
       "      <td>Women's Perfume</td>\n",
       "    </tr>\n",
       "    <tr>\n",
       "      <th>4</th>\n",
       "      <td>perfume_b-am-pid_70988w</td>\n",
       "      <td>Bronze Goddess Perfume</td>\n",
       "      <td>Bronze Goddess Perfume by Estee Lauder, Bronze...</td>\n",
       "      <td>Estee Lauder</td>\n",
       "      <td>4.6</td>\n",
       "      <td>https://www.fragrancex.com/products/_cid_perfu...</td>\n",
       "      <td>https://img.fragrancex.com/images/products/par...</td>\n",
       "      <td>Women's Perfume</td>\n",
       "    </tr>\n",
       "  </tbody>\n",
       "</table>\n",
       "</div>"
      ],
      "text/plain": [
       "                product_id                    product_name  \\\n",
       "0  perfume_l-am-pid_80223w     La Nuit Tresor Nude Perfume   \n",
       "1  perfume_m-am-pid_68830w             Miss Varens Perfume   \n",
       "2   perfume_h-am-pid_1478w                    Hodo Perfume   \n",
       "3  perfume_p-am-pid_77114w  Personal Selection Two Perfume   \n",
       "4  perfume_b-am-pid_70988w          Bronze Goddess Perfume   \n",
       "\n",
       "                                 product_description       brand_name review  \\\n",
       "0  La Nuit Tresor Nude Perfume by Lancome, Feel i...          Lancome    0.0   \n",
       "1  Miss Varens Perfume by Ulric De Varens, Launch...  Ulric De Varens    3.7   \n",
       "2  Hodo Perfume by Fragluxe, Captivating and myst...         Fragluxe    5.0   \n",
       "3  Personal Selection Two Perfume by Fred Hayman ...      Fred Hayman    0.0   \n",
       "4  Bronze Goddess Perfume by Estee Lauder, Bronze...     Estee Lauder    4.6   \n",
       "\n",
       "                                                 url  \\\n",
       "0  https://www.fragrancex.com/products/_cid_perfu...   \n",
       "1  https://www.fragrancex.com/products/_cid_perfu...   \n",
       "2  https://www.fragrancex.com/products/_cid_perfu...   \n",
       "3  https://www.fragrancex.com/products/_cid_perfu...   \n",
       "4  https://www.fragrancex.com/products/_cid_perfu...   \n",
       "\n",
       "                                           image_url       department  \n",
       "0  https://img.fragrancex.com/images/products/par...  Women's Perfume  \n",
       "1  https://img.fragrancex.com/images/products/par...  Women's Perfume  \n",
       "2  https://img.fragrancex.com/images/products/par...  Women's Perfume  \n",
       "3                                            Missing  Women's Perfume  \n",
       "4  https://img.fragrancex.com/images/products/par...  Women's Perfume  "
      ]
     },
     "execution_count": 436,
     "metadata": {},
     "output_type": "execute_result"
    }
   ],
   "source": [
    "df_women['department'] = \"Women's Perfume\"\n",
    "df_women.head()"
   ]
  },
  {
   "cell_type": "code",
   "execution_count": 439,
   "metadata": {},
   "outputs": [],
   "source": [
    "df = pd.concat([df_women, df_men], ignore_index = True)"
   ]
  },
  {
   "cell_type": "code",
   "execution_count": 444,
   "metadata": {},
   "outputs": [],
   "source": [
    "with open('df.pickle', 'wb') as to_write:\n",
    "    pickle.dump(df, to_write)"
   ]
  },
  {
   "cell_type": "code",
   "execution_count": 443,
   "metadata": {},
   "outputs": [
    {
     "data": {
      "text/plain": [
       "product_id                                       perfume_m-am-pid_68830w\n",
       "product_name                                         Miss Varens Perfume\n",
       "product_description    Miss Varens Perfume by Ulric De Varens, Launch...\n",
       "brand_name                                               Ulric De Varens\n",
       "review                                                               3.7\n",
       "url                    https://www.fragrancex.com/products/_cid_perfu...\n",
       "image_url              https://img.fragrancex.com/images/products/par...\n",
       "department                                               Women's Perfume\n",
       "Name: 1, dtype: object"
      ]
     },
     "execution_count": 443,
     "metadata": {},
     "output_type": "execute_result"
    }
   ],
   "source": []
  },
  {
   "cell_type": "code",
   "execution_count": null,
   "metadata": {},
   "outputs": [],
   "source": []
  }
 ],
 "metadata": {
  "kernelspec": {
   "display_name": "Python 3",
   "language": "python",
   "name": "python3"
  },
  "language_info": {
   "codemirror_mode": {
    "name": "ipython",
    "version": 3
   },
   "file_extension": ".py",
   "mimetype": "text/x-python",
   "name": "python",
   "nbconvert_exporter": "python",
   "pygments_lexer": "ipython3",
   "version": "3.8.5"
  }
 },
 "nbformat": 4,
 "nbformat_minor": 4
}
